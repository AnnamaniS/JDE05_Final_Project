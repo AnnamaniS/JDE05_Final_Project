{
 "cells": [
  {
   "cell_type": "markdown",
   "id": "6889c2f2-64d5-409d-8936-737ab596fbfd",
   "metadata": {},
   "source": [
    "###### NHL Project download datasets"
   ]
  },
  {
   "cell_type": "code",
   "execution_count": null,
   "id": "e30e4d51-f252-4d40-83ee-864e09e8d7ab",
   "metadata": {},
   "outputs": [],
   "source": [
    "!pip install kaggle"
   ]
  },
  {
   "cell_type": "code",
   "execution_count": 2,
   "id": "657ed7f3-b2b8-4242-ab06-72a78907da99",
   "metadata": {},
   "outputs": [],
   "source": [
    "import os\n",
    "from kaggle.api.kaggle_api_extended import KaggleApi"
   ]
  },
  {
   "cell_type": "code",
   "execution_count": 3,
   "id": "2a090891-7627-4418-a929-09e3283cbf6c",
   "metadata": {},
   "outputs": [],
   "source": [
    "# Set the path for the dataset folder\n",
    "data_folder = os.path.join(os.getcwd(), \"RawData\")\n",
    "os.makedirs(data_folder, exist_ok=True)  # Create the folder if it doesn't exist"
   ]
  },
  {
   "cell_type": "code",
   "execution_count": null,
   "id": "d6068d3b-16e0-49fd-93f9-e81e23526f7d",
   "metadata": {},
   "outputs": [],
   "source": []
  },
  {
   "cell_type": "code",
   "execution_count": 4,
   "id": "0f736ff9-505c-49d6-94ea-4caa8ff8c70b",
   "metadata": {},
   "outputs": [],
   "source": [
    "# Initialize the Kaggle API\n",
    "api = KaggleApi()\n",
    "api.authenticate()"
   ]
  },
  {
   "cell_type": "code",
   "execution_count": null,
   "id": "07866046-e447-4d34-9a7e-344064d9cc46",
   "metadata": {},
   "outputs": [],
   "source": []
  },
  {
   "cell_type": "code",
   "execution_count": 5,
   "id": "9a2217da-dd1e-4d93-b79c-352936908007",
   "metadata": {},
   "outputs": [],
   "source": [
    "# Dataset details\n",
    "dataset_name = \"martinellis/nhl-game-data\"\n",
    "destination_path = data_folder"
   ]
  },
  {
   "cell_type": "code",
   "execution_count": null,
   "id": "20499dce-a04d-4819-a743-0c979886dadb",
   "metadata": {},
   "outputs": [],
   "source": []
  },
  {
   "cell_type": "code",
   "execution_count": 6,
   "id": "d1b00be2-3d2b-4e40-b62b-8a0174e92ead",
   "metadata": {},
   "outputs": [
    {
     "name": "stdout",
     "output_type": "stream",
     "text": [
      "Dataset URL: https://www.kaggle.com/datasets/martinellis/nhl-game-data\n"
     ]
    }
   ],
   "source": [
    "# Download the dataset\n",
    "# print(f\"Downloading dataset: {dataset_name}\")\n",
    "api.dataset_download_files(dataset_name, path=destination_path, unzip=True)\n",
    "\n",
    "# print(f\"Dataset downloaded and extracted to: {destination_path}\")"
   ]
  },
  {
   "cell_type": "code",
   "execution_count": null,
   "id": "a05b9f8b-b006-474c-a3b9-73e1406aac69",
   "metadata": {},
   "outputs": [],
   "source": []
  },
  {
   "cell_type": "code",
   "execution_count": null,
   "id": "6aa892be-f6dd-4619-9cb9-5edbc1367180",
   "metadata": {},
   "outputs": [],
   "source": []
  }
 ],
 "metadata": {
  "kernelspec": {
   "display_name": "Python 3 (ipykernel)",
   "language": "python",
   "name": "python3"
  },
  "language_info": {
   "codemirror_mode": {
    "name": "ipython",
    "version": 3
   },
   "file_extension": ".py",
   "mimetype": "text/x-python",
   "name": "python",
   "nbconvert_exporter": "python",
   "pygments_lexer": "ipython3",
   "version": "3.12.4"
  }
 },
 "nbformat": 4,
 "nbformat_minor": 5
}
